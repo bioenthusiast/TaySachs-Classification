{
 "cells": [
  {
   "cell_type": "code",
   "execution_count": null,
   "id": "323f8edc",
   "metadata": {},
   "outputs": [],
   "source": [
    "# import warnings filter\n",
    "from warnings import simplefilter\n",
    "# ignore all future warnings\n",
    "simplefilter(action='ignore', category=FutureWarning)"
   ]
  },
  {
   "cell_type": "code",
   "execution_count": null,
   "id": "5b480aa0",
   "metadata": {},
   "outputs": [],
   "source": [
    "import pandas as pd"
   ]
  },
  {
   "cell_type": "code",
   "execution_count": null,
   "id": "27b4bbf5",
   "metadata": {},
   "outputs": [],
   "source": [
    "#import dataset\n",
    "data = pd.read_csv(\"taysachs.csv\")"
   ]
  },
  {
   "cell_type": "code",
   "execution_count": null,
   "id": "b13ceb40",
   "metadata": {},
   "outputs": [],
   "source": [
    "#Display first 5 rows of the dataset\n",
    "data.head(5)"
   ]
  },
  {
   "cell_type": "code",
   "execution_count": null,
   "id": "47568ef8",
   "metadata": {},
   "outputs": [],
   "source": [
    "#Display total number of rows and columns in the dataset\n",
    "data.shape"
   ]
  },
  {
   "cell_type": "code",
   "execution_count": null,
   "id": "69c076e3",
   "metadata": {},
   "outputs": [],
   "source": [
    "#Statistical description of the data\n",
    "data.describe()"
   ]
  },
  {
   "cell_type": "code",
   "execution_count": null,
   "id": "b73b3b28",
   "metadata": {},
   "outputs": [],
   "source": [
    "#Check for null values in the dataset\n",
    "data.isnull().sum()\n",
    "data.isna().sum()"
   ]
  },
  {
   "cell_type": "code",
   "execution_count": null,
   "id": "5329284a",
   "metadata": {},
   "outputs": [],
   "source": [
    "#Understand the target varibale further\n",
    "data[\"Diagnosis\"].value_counts()\n",
    "\n",
    "#Out of 569 patients, 357 had Benign and 212 had Malignant tumor"
   ]
  },
  {
   "cell_type": "code",
   "execution_count": null,
   "id": "8d03fe60",
   "metadata": {},
   "outputs": [],
   "source": [
    "#Visualize dataset using Histograms\n",
    "#A histogram is a plot that lets you discover, and show, the underlying frequency distribution \n",
    "\n",
    "import matplotlib.pyplot as plt\n",
    "\n",
    "num_bins = 10\n",
    "data.hist(bins=num_bins, figsize=(20,15))\n",
    "plt.show()"
   ]
  },
  {
   "cell_type": "code",
   "execution_count": null,
   "id": "7c4162d5",
   "metadata": {},
   "outputs": [],
   "source": [
    "# Assign independent variables (input variables) to X\n",
    "X = data.iloc[:, 2:31].values\n",
    "\n",
    "#Assign target variable to Y. Here, target variable is \"diagnosis\" which is in position 1\n",
    "Y = data.iloc[:, 1].values"
   ]
  },
  {
   "cell_type": "code",
   "execution_count": null,
   "id": "f52ebdf9",
   "metadata": {},
   "outputs": [],
   "source": [
    "from sklearn.preprocessing import LabelEncoder\n",
    "labelencoder_Y = LabelEncoder()\n",
    "Y = labelencoder_Y.fit_transform(Y)\n",
    "Y"
   ]
  },
  {
   "cell_type": "code",
   "execution_count": null,
   "id": "f86118c5",
   "metadata": {},
   "outputs": [],
   "source": [
    "#Split the dataset into 75% train and 25% test data\n",
    "\n",
    "from sklearn.model_selection import train_test_split\n",
    "X_train, X_test, Y_train, Y_test = train_test_split(X, Y, test_size = 0.25, random_state = 0)"
   ]
  },
  {
   "cell_type": "code",
   "execution_count": null,
   "id": "56cb27c9",
   "metadata": {},
   "outputs": [],
   "source": [
    "#As mentioned above, standardize the features using StandardScaler\n",
    "\n",
    "from sklearn.preprocessing import StandardScaler\n",
    "sc = StandardScaler()\n",
    "X_train = sc.fit_transform(X_train)\n",
    "X_test = sc.transform(X_test)"
   ]
  },
  {
   "cell_type": "code",
   "execution_count": null,
   "id": "80f09e86",
   "metadata": {},
   "outputs": [],
   "source": [
    "from sklearn.metrics import accuracy_score\n",
    "from sklearn.metrics import f1_score\n",
    "import seaborn as sn"
   ]
  },
  {
   "cell_type": "code",
   "execution_count": null,
   "id": "102605bd",
   "metadata": {},
   "outputs": [],
   "source": [
    "from sklearn.linear_model import LogisticRegression\n",
    "\n",
    "classifier_1= LogisticRegression(random_state = 0)\n",
    "\n",
    "#Train the model\n",
    "classifier_1.fit(X_train, Y_train)\n",
    "\n",
    "#Test it using the test dataset\n",
    "Y_pred1 = classifier_1.predict(X_test)"
   ]
  },
  {
   "cell_type": "code",
   "execution_count": null,
   "id": "0e765acf",
   "metadata": {},
   "outputs": [],
   "source": [
    "#Model Evaluation\n",
    "\n",
    "print (accuracy_score(Y_test, Y_pred1))\n",
    "confusion_matrix = pd.crosstab(Y_test, Y_pred1, rownames=['Actual'], colnames=['Predicted'])\n",
    "sn.heatmap(confusion_matrix, annot=True)"
   ]
  },
  {
   "cell_type": "code",
   "execution_count": null,
   "id": "8c9446df",
   "metadata": {},
   "outputs": [],
   "source": [
    "from sklearn.neighbors import KNeighborsClassifier\n",
    "classifier_2 = KNeighborsClassifier(n_neighbors = 5, metric = 'minkowski', p = 2)\n",
    "classifier_2.fit(X_train, Y_train)\n",
    "Y_pred2 = classifier_2.predict(X_test)"
   ]
  },
  {
   "cell_type": "code",
   "execution_count": null,
   "id": "16183cf5",
   "metadata": {},
   "outputs": [],
   "source": [
    "print (accuracy_score(Y_test, Y_pred2))\n",
    "confusion_matrix = pd.crosstab(Y_test, Y_pred2, rownames=['Actual'], colnames=['Predicted'])\n",
    "sn.heatmap(confusion_matrix, annot=True)"
   ]
  },
  {
   "cell_type": "code",
   "execution_count": null,
   "id": "8d63d90f",
   "metadata": {},
   "outputs": [],
   "source": [
    "from sklearn.svm import SVC\n",
    "classifier_3 = SVC(kernel = 'linear', random_state = 0)\n",
    "classifier_3.fit(X_train, Y_train)\n",
    "Y_pred3 = classifier_3.predict(X_test)"
   ]
  },
  {
   "cell_type": "code",
   "execution_count": null,
   "id": "75c01330",
   "metadata": {},
   "outputs": [],
   "source": [
    "print (accuracy_score(Y_test, Y_pred3))\n",
    "confusion_matrix = pd.crosstab(Y_test, Y_pred3, rownames=['Actual'], colnames=['Predicted'])\n",
    "sn.heatmap(confusion_matrix, annot=True)"
   ]
  },
  {
   "cell_type": "code",
   "execution_count": null,
   "id": "78be7a56",
   "metadata": {},
   "outputs": [],
   "source": [
    "from sklearn.svm import SVC\n",
    "classifier_4 = SVC(kernel = 'rbf', random_state = 0)\n",
    "classifier_4.fit(X_train, Y_train)\n",
    "Y_pred4 = classifier_4.predict(X_test)"
   ]
  },
  {
   "cell_type": "code",
   "execution_count": null,
   "id": "b9fd928b",
   "metadata": {},
   "outputs": [],
   "source": [
    "print (accuracy_score(Y_test, Y_pred4))\n",
    "confusion_matrix = pd.crosstab(Y_test, Y_pred4, rownames=['Actual'], colnames=['Predicted'])\n",
    "sn.heatmap(confusion_matrix, annot=True)"
   ]
  },
  {
   "cell_type": "code",
   "execution_count": null,
   "id": "5103fb26",
   "metadata": {},
   "outputs": [],
   "source": [
    "from sklearn.naive_bayes import GaussianNB\n",
    "classifier_5 = GaussianNB()\n",
    "classifier_5.fit(X_train, Y_train)\n",
    "Y_pred5 = classifier_5.predict(X_test)"
   ]
  },
  {
   "cell_type": "code",
   "execution_count": null,
   "id": "a1472b56",
   "metadata": {},
   "outputs": [],
   "source": [
    "print (accuracy_score(Y_test, Y_pred5))\n",
    "confusion_matrix = pd.crosstab(Y_test, Y_pred5, rownames=['Actual'], colnames=['Predicted'])\n",
    "sn.heatmap(confusion_matrix, annot=True)"
   ]
  },
  {
   "cell_type": "code",
   "execution_count": null,
   "id": "409fe79c",
   "metadata": {},
   "outputs": [],
   "source": [
    "from sklearn.tree import DecisionTreeClassifier\n",
    "classifier_6 = DecisionTreeClassifier(criterion = 'entropy', random_state = 0)\n",
    "classifier_6.fit(X_train, Y_train)\n",
    "Y_pred6 = classifier_6.predict(X_test)"
   ]
  },
  {
   "cell_type": "code",
   "execution_count": null,
   "id": "a5583f7f",
   "metadata": {},
   "outputs": [],
   "source": [
    "print (accuracy_score(Y_test, Y_pred6))\n",
    "confusion_matrix = pd.crosstab(Y_test, Y_pred6, rownames=['Actual'], colnames=['Predicted'])\n",
    "sn.heatmap(confusion_matrix, annot=True)"
   ]
  },
  {
   "cell_type": "code",
   "execution_count": null,
   "id": "e2a52343",
   "metadata": {},
   "outputs": [],
   "source": [
    "from sklearn.ensemble import RandomForestClassifier\n",
    "classifier_7 = RandomForestClassifier(n_estimators = 10, criterion = 'entropy', random_state = 0)\n",
    "classifier_7.fit(X_train, Y_train)\n",
    "Y_pred7 = classifier_7.predict(X_test)"
   ]
  },
  {
   "cell_type": "code",
   "execution_count": null,
   "id": "9fc2da38",
   "metadata": {},
   "outputs": [],
   "source": [
    "print (accuracy_score(Y_test, Y_pred7))\n",
    "confusion_matrix = pd.crosstab(Y_test, Y_pred7, rownames=['Actual'], colnames=['Predicted'])\n",
    "sn.heatmap(confusion_matrix, annot=True)"
   ]
  },
  {
   "cell_type": "code",
   "execution_count": null,
   "id": "ae6c6d9f",
   "metadata": {},
   "outputs": [],
   "source": []
  },
  {
   "cell_type": "code",
   "execution_count": null,
   "id": "dc6e5f05",
   "metadata": {},
   "outputs": [],
   "source": []
  }
 ],
 "metadata": {
  "kernelspec": {
   "display_name": "Python 3 (ipykernel)",
   "language": "python",
   "name": "python3"
  },
  "language_info": {
   "codemirror_mode": {
    "name": "ipython",
    "version": 3
   },
   "file_extension": ".py",
   "mimetype": "text/x-python",
   "name": "python",
   "nbconvert_exporter": "python",
   "pygments_lexer": "ipython3",
   "version": "3.7.4"
  }
 },
 "nbformat": 4,
 "nbformat_minor": 5
}
